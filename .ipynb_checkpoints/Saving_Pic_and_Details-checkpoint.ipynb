{
 "cells": [
  {
   "cell_type": "code",
   "execution_count": 3,
   "id": "9d486d8b",
   "metadata": {},
   "outputs": [],
   "source": [
    "import cv2\n",
    "import matplotlib.pyplot as plt\n",
    "import imutils\n",
    "import numpy as np\n",
    "import pytesseract\n",
    "\n",
    "pytesseract.pytesseract.tesseract_cmd = 'F:\\\\Program Files\\\\Tesseract-OCR\\\\tesseract.exe'"
   ]
  },
  {
   "cell_type": "code",
   "execution_count": 6,
   "id": "0b14d2fb",
   "metadata": {},
   "outputs": [],
   "source": [
    "class image(object):\n",
    "    def __init__(self,img1):\n",
    "        self.img = cv2.imread(img1)\n",
    "        img = cv2.resize(img,(1029,644))\n",
    "        gray = cv2.cvtColor(img,cv2.COLOR_BGR2GRAY)\n",
    "        bfilter = cv2.bilateralFilter(gray, 11, 17, 17) #Noise reduction\n",
    "        edged = cv2.Canny(bfilter, 30, 200) #Edge detection\n",
    "        cropped2 = edged[220:600,540:980]\n",
    "        keypoints = cv2.findContours(edged.copy(), cv2.RETR_TREE, cv2.CHAIN_APPROX_SIMPLE)\n",
    "        contours = imutils.grab_contours(keypoints)\n",
    "        contours = sorted(contours, key=cv2.contourArea, reverse=True)[:10]\n",
    "        location = None\n",
    "        for contour in contours:\n",
    "            approx = cv2.approxPolyDP(contour, 10, True)\n",
    "            if len(approx) == 4:\n",
    "                location = approx\n",
    "                break\n",
    "        width,height= 300,400\n",
    "        pts1 = np.float32([location[0],location[3],location[1],location[2]])\n",
    "        pts2 = np.float32([[0,0],[width,0],[0,height],[width,height]])\n",
    "        matrix1=cv2.getPerspectiveTransform(pts1, pts2)\n",
    "        imgId=cv2.warpPerspective(bfilter,matrix1,(width,height))\n",
    "\n",
    "        ret, thresh1 = cv2.threshold(edged, 0, 255, cv2.THRESH_OTSU | cv2.THRESH_BINARY_INV)\n",
    "        rect_kernel = cv2.getStructuringElement(cv2.MORPH_RECT, (25, 25))\n",
    "\n",
    "        # Appplying dilation on the threshold image\n",
    "        dilation = cv2.dilate(thresh1, rect_kernel, iterations = 1)\n",
    "\n",
    "        # Finding contours\n",
    "        contours, hierarchy = cv2.findContours(dilation, cv2.RETR_EXTERNAL, \n",
    "                                                         cv2.CHAIN_APPROX_NONE)\n",
    "\n",
    "        # Creating a copy of image\n",
    "        im2 = img.copy()\n",
    "        for cnt in contours:\n",
    "            x, y, w, h = cv2.boundingRect(cnt)\n",
    "\n",
    "            x,y,w,h =540,220,950,580\n",
    "\n",
    "            # Drawing a rectangle on copied image\n",
    "            rect = cv2.rectangle(bfilter, (x, y), (x + w, y + h), (0, 255, 0), 2)\n",
    "\n",
    "            # Cropping the text block for giving input to OCR\n",
    "            cropped = bfilter[y:y + h, x:x + w]\n",
    "\n",
    "            # Apply OCR on the cropped image\n",
    "            text = pytesseract.image_to_string(cropped, config='--oem 2 --psm 3')\n",
    "            return imgId,text"
   ]
  },
  {
   "cell_type": "code",
   "execution_count": 7,
   "id": "31159029",
   "metadata": {},
   "outputs": [
    {
     "ename": "UnboundLocalError",
     "evalue": "local variable 'img' referenced before assignment",
     "output_type": "error",
     "traceback": [
      "\u001b[1;31m---------------------------------------------------------------------------\u001b[0m",
      "\u001b[1;31mUnboundLocalError\u001b[0m                         Traceback (most recent call last)",
      "\u001b[1;32m<ipython-input-7-177143232f3c>\u001b[0m in \u001b[0;36m<module>\u001b[1;34m\u001b[0m\n\u001b[1;32m----> 1\u001b[1;33m \u001b[0mimage\u001b[0m\u001b[1;33m(\u001b[0m\u001b[1;34m'F:/CST17020/python/ImageProcessingProject/myProject/id/1.jpg'\u001b[0m\u001b[1;33m)\u001b[0m\u001b[1;33m\u001b[0m\u001b[1;33m\u001b[0m\u001b[0m\n\u001b[0m",
      "\u001b[1;32m<ipython-input-6-e3eb048a3b64>\u001b[0m in \u001b[0;36m__init__\u001b[1;34m(self, img1)\u001b[0m\n\u001b[0;32m      2\u001b[0m     \u001b[1;32mdef\u001b[0m \u001b[0m__init__\u001b[0m\u001b[1;33m(\u001b[0m\u001b[0mself\u001b[0m\u001b[1;33m,\u001b[0m\u001b[0mimg1\u001b[0m\u001b[1;33m)\u001b[0m\u001b[1;33m:\u001b[0m\u001b[1;33m\u001b[0m\u001b[1;33m\u001b[0m\u001b[0m\n\u001b[0;32m      3\u001b[0m         \u001b[0mself\u001b[0m\u001b[1;33m.\u001b[0m\u001b[0mimg\u001b[0m \u001b[1;33m=\u001b[0m \u001b[0mcv2\u001b[0m\u001b[1;33m.\u001b[0m\u001b[0mimread\u001b[0m\u001b[1;33m(\u001b[0m\u001b[0mimg1\u001b[0m\u001b[1;33m)\u001b[0m\u001b[1;33m\u001b[0m\u001b[1;33m\u001b[0m\u001b[0m\n\u001b[1;32m----> 4\u001b[1;33m         \u001b[0mimg\u001b[0m \u001b[1;33m=\u001b[0m \u001b[0mcv2\u001b[0m\u001b[1;33m.\u001b[0m\u001b[0mresize\u001b[0m\u001b[1;33m(\u001b[0m\u001b[0mimg\u001b[0m\u001b[1;33m,\u001b[0m\u001b[1;33m(\u001b[0m\u001b[1;36m1029\u001b[0m\u001b[1;33m,\u001b[0m\u001b[1;36m644\u001b[0m\u001b[1;33m)\u001b[0m\u001b[1;33m)\u001b[0m\u001b[1;33m\u001b[0m\u001b[1;33m\u001b[0m\u001b[0m\n\u001b[0m\u001b[0;32m      5\u001b[0m         \u001b[0mgray\u001b[0m \u001b[1;33m=\u001b[0m \u001b[0mcv2\u001b[0m\u001b[1;33m.\u001b[0m\u001b[0mcvtColor\u001b[0m\u001b[1;33m(\u001b[0m\u001b[0mimg\u001b[0m\u001b[1;33m,\u001b[0m\u001b[0mcv2\u001b[0m\u001b[1;33m.\u001b[0m\u001b[0mCOLOR_BGR2GRAY\u001b[0m\u001b[1;33m)\u001b[0m\u001b[1;33m\u001b[0m\u001b[1;33m\u001b[0m\u001b[0m\n\u001b[0;32m      6\u001b[0m         \u001b[0mbfilter\u001b[0m \u001b[1;33m=\u001b[0m \u001b[0mcv2\u001b[0m\u001b[1;33m.\u001b[0m\u001b[0mbilateralFilter\u001b[0m\u001b[1;33m(\u001b[0m\u001b[0mgray\u001b[0m\u001b[1;33m,\u001b[0m \u001b[1;36m11\u001b[0m\u001b[1;33m,\u001b[0m \u001b[1;36m17\u001b[0m\u001b[1;33m,\u001b[0m \u001b[1;36m17\u001b[0m\u001b[1;33m)\u001b[0m \u001b[1;31m#Noise reduction\u001b[0m\u001b[1;33m\u001b[0m\u001b[1;33m\u001b[0m\u001b[0m\n",
      "\u001b[1;31mUnboundLocalError\u001b[0m: local variable 'img' referenced before assignment"
     ]
    }
   ],
   "source": [
    "image('F:/CST17020/python/ImageProcessingProject/myProject/id/1.jpg')"
   ]
  },
  {
   "cell_type": "code",
   "execution_count": null,
   "id": "f04680b6",
   "metadata": {},
   "outputs": [],
   "source": []
  }
 ],
 "metadata": {
  "kernelspec": {
   "display_name": "Python 3",
   "language": "python",
   "name": "python3"
  },
  "language_info": {
   "codemirror_mode": {
    "name": "ipython",
    "version": 3
   },
   "file_extension": ".py",
   "mimetype": "text/x-python",
   "name": "python",
   "nbconvert_exporter": "python",
   "pygments_lexer": "ipython3",
   "version": "3.8.8"
  }
 },
 "nbformat": 4,
 "nbformat_minor": 5
}
