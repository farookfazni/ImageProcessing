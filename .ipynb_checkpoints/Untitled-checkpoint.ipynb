{
 "cells": [
  {
   "cell_type": "code",
   "execution_count": 4,
   "id": "713af91c",
   "metadata": {},
   "outputs": [],
   "source": [
    "import cv2\n",
    "import numpy as np\n",
    "import matplotlib.pyplot as plt\n",
    "\n",
    "img1 = cv2.imread('F:/CST17020/pythonImageProcessingProject/my extra works/id/4.jpg')\n",
    "img2 = cv2.imread('F:/CST17020/python/ImageProcessingProject/my extra works/id/1.jpg')"
   ]
  },
  {
   "cell_type": "code",
   "execution_count": 5,
   "id": "b6e62fec",
   "metadata": {},
   "outputs": [
    {
     "ename": "AttributeError",
     "evalue": "module 'cv2.cv2' has no attribute 'xfeatures2d'",
     "output_type": "error",
     "traceback": [
      "\u001b[1;31m---------------------------------------------------------------------------\u001b[0m",
      "\u001b[1;31mAttributeError\u001b[0m                            Traceback (most recent call last)",
      "\u001b[1;32m<ipython-input-5-e202ad85f7e8>\u001b[0m in \u001b[0;36m<module>\u001b[1;34m\u001b[0m\n\u001b[1;32m----> 1\u001b[1;33m \u001b[0msift\u001b[0m \u001b[1;33m=\u001b[0m \u001b[0mcv2\u001b[0m\u001b[1;33m.\u001b[0m\u001b[0mxfeatures2d\u001b[0m\u001b[1;33m.\u001b[0m\u001b[0mSIFT_create\u001b[0m\u001b[1;33m(\u001b[0m\u001b[1;33m)\u001b[0m\u001b[1;33m\u001b[0m\u001b[1;33m\u001b[0m\u001b[0m\n\u001b[0m\u001b[0;32m      2\u001b[0m \u001b[0mkp1\u001b[0m\u001b[1;33m,\u001b[0m \u001b[0mdes1\u001b[0m \u001b[1;33m=\u001b[0m \u001b[0msift\u001b[0m\u001b[1;33m.\u001b[0m\u001b[0mdetectAndCompute\u001b[0m\u001b[1;33m(\u001b[0m\u001b[0mimg1\u001b[0m\u001b[1;33m,\u001b[0m\u001b[1;32mNone\u001b[0m\u001b[1;33m)\u001b[0m       \u001b[1;31m#Found feature points of the template image\u001b[0m\u001b[1;33m\u001b[0m\u001b[1;33m\u001b[0m\u001b[0m\n\u001b[0;32m      3\u001b[0m \u001b[0mkp2\u001b[0m\u001b[1;33m,\u001b[0m \u001b[0mdes2\u001b[0m \u001b[1;33m=\u001b[0m \u001b[0msift\u001b[0m\u001b[1;33m.\u001b[0m\u001b[0mdetectAndCompute\u001b[0m\u001b[1;33m(\u001b[0m\u001b[0mimg2\u001b[0m\u001b[1;33m,\u001b[0m\u001b[1;32mNone\u001b[0m\u001b[1;33m)\u001b[0m       \u001b[1;31m#Found identified feature points\u001b[0m\u001b[1;33m\u001b[0m\u001b[1;33m\u001b[0m\u001b[0m\n\u001b[0;32m      4\u001b[0m \u001b[1;33m\u001b[0m\u001b[0m\n\u001b[0;32m      5\u001b[0m \u001b[0mFLANN_INDEX_KDTREE\u001b[0m \u001b[1;33m=\u001b[0m \u001b[1;36m0\u001b[0m\u001b[1;33m\u001b[0m\u001b[1;33m\u001b[0m\u001b[0m\n",
      "\u001b[1;31mAttributeError\u001b[0m: module 'cv2.cv2' has no attribute 'xfeatures2d'"
     ]
    }
   ],
   "source": [
    "\tsift = cv2.xfeatures2d.SIFT_create()\n",
    "\tkp1, des1 = sift.detectAndCompute(img1,None)       #Found feature points of the template image\n",
    "\tkp2, des2 = sift.detectAndCompute(img2,None)       #Found identified feature points\n",
    "\n",
    "\tFLANN_INDEX_KDTREE = 0\n",
    "\tindex_params = dict(algorithm = FLANN_INDEX_KDTREE, trees = 5)\n",
    "\tsearch_params = dict(checks = 10)\n",
    "\n",
    "\tflann = cv2.FlannBasedMatcher(index_params, search_params)\n",
    "\tmatches = flann.knnMatch(des1,des2,k=2)\n",
    "\n",
    "\t# store all the good matches as per Lowe's ratio test.\n",
    "\t#Between the two best matches, the distance needs to be greater than ratio 0.7, and the distance is too similar may be the noise point.\n",
    "\tgood = []\n",
    "\tfor m,n in matches:\n",
    "\t\tif m.distance < 0.8*n.distance:\n",
    "\t\t\tgood.append(m)\n",
    "\t#reshape is an array of (x, y)\n",
    "\tif len(good)>MIN_MATCH_COUNT:\n",
    "\t\tsrc_pts = np.float32([ kp1[m.queryIdx].pt for m in good ]).reshape(-1,1,2)\n",
    "\t\tdst_pts = np.float32([ kp2[m.trainIdx].pt for m in good ]).reshape(-1,1,2)\n",
    "\t\t#HomoGraphy calculates the mapping relationship between image and image, M is the transformation matrix\n",
    "\t\tM, mask = cv2.findHomography(src_pts, dst_pts, cv2.RANSAC,5.0)\n",
    "\t\tmatchesMask = mask.ravel().tolist()\n",
    "\t\t#Using the transformation matrix M to calculate the corresponding shape of img1 in img2\n",
    "\t\th,w = cv2.UMat.get(img1).shape\n",
    "\t\tM_r=np.linalg.inv(M)\n",
    "\t\tim_r = cv2.warpPerspective(img_org, M_r, (w,h))\n"
   ]
  },
  {
   "cell_type": "code",
   "execution_count": null,
   "id": "b8063244",
   "metadata": {},
   "outputs": [],
   "source": []
  }
 ],
 "metadata": {
  "kernelspec": {
   "display_name": "Python 3",
   "language": "python",
   "name": "python3"
  },
  "language_info": {
   "codemirror_mode": {
    "name": "ipython",
    "version": 3
   },
   "file_extension": ".py",
   "mimetype": "text/x-python",
   "name": "python",
   "nbconvert_exporter": "python",
   "pygments_lexer": "ipython3",
   "version": "3.8.8"
  }
 },
 "nbformat": 4,
 "nbformat_minor": 5
}
