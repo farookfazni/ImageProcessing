{
 "cells": [
  {
   "cell_type": "code",
   "execution_count": 1,
   "id": "01e829d8",
   "metadata": {},
   "outputs": [
    {
     "name": "stdout",
     "output_type": "stream",
     "text": [
      "[['Mr.Fazni M.F.M\\n', 'UWU/CST/17/020\\n', 'Science & Technology\\n', 'Computer Science &\\n', 'Technology'], ['Ms. Nabeela M.I\\n', 'UWU/CST/17/038 \\n', 'Science & Technology \\n', 'Computer Science & \\n', 'Technology'], ['Mr. Shihan N.S\\n', 'UWU/SCT/17/O44\\n', 'Science & Technology\\n', 'Science & Technology'], ['Mr. Musharrirf M.M.M.\\n', 'UWU/IIT/17/033\\n', 'Science & Technology\\n', 'Industrial Information\\n', 'Technology'], ['Ms. Yasora R.M.V.\\n', 'UWU/CST/17/068\\n', 'Science & Technology\\n', 'Computer Science &\\n', 'Technology'], ['Ms. Kunapala N.\\n', 'UWU/CST/17/O35\\n', 'Science & Technology\\n', 'Computer Science &\\n', 'Technology'], ['Mr. Dalpathadu K.P.K.G.\\n', 'UWU/CST/17/011\\n', 'Science & Technology\\n', 'Computer Science &.\\n', 'Technology']]\n"
     ]
    }
   ],
   "source": [
    "import os\n",
    "list_of_files = {}\n",
    "datas = []\n",
    "for dirpath,dirnames,filenames in os.walk(\"F:/CST17020/python/ImageProcessingProject/my extra works/labels\"):\n",
    "    for filename in filenames:\n",
    "        if filename.endswith('.txt'): \n",
    "            list_of_files[filename] = os.sep.join([dirpath, filename])\n",
    "            file = open(os.path.join(dirpath, filename), 'r')\n",
    "#             file.read()\n",
    "            data = file.readlines()\n",
    "            datas.append(data)\n",
    "#             datas.append(data)\n",
    "            file.close()\n",
    "#             print(data)\n",
    "print(datas)\n",
    "\n",
    "# for (roots,dirname,files) in os.walk('F:/CST17020/python/myProject/labels')\n",
    "# for f in files:\n",
    "#     outfile = open(f,'r')\n",
    "#     data = outfile.readlines()"
   ]
  },
  {
   "cell_type": "code",
   "execution_count": 2,
   "id": "6488f049",
   "metadata": {},
   "outputs": [
    {
     "name": "stdout",
     "output_type": "stream",
     "text": [
      "['F:/CST17020/python/ImageProcessingProject/my extra works/id\\\\1.jpg', 'F:/CST17020/python/ImageProcessingProject/my extra works/id\\\\2.jpg', 'F:/CST17020/python/ImageProcessingProject/my extra works/id\\\\3.jpg', 'F:/CST17020/python/ImageProcessingProject/my extra works/id\\\\4.jpg', 'F:/CST17020/python/ImageProcessingProject/my extra works/id\\\\5.jpg', 'F:/CST17020/python/ImageProcessingProject/my extra works/id\\\\6.jpg', 'F:/CST17020/python/ImageProcessingProject/my extra works/id\\\\7.jpg']\n"
     ]
    }
   ],
   "source": [
    "from imutils import paths\n",
    "import cv2\n",
    "\n",
    "imagesPaths = list(paths.list_images('F:/CST17020/python/ImageProcessingProject/my extra works/id'))\n",
    "print(imagesPaths)"
   ]
  },
  {
   "cell_type": "code",
   "execution_count": 3,
   "id": "ea184abd",
   "metadata": {},
   "outputs": [],
   "source": [
    "import pandas as pd\n",
    "df = pd.DataFrame(imagesPaths)"
   ]
  },
  {
   "cell_type": "code",
   "execution_count": 4,
   "id": "f6fa9e97",
   "metadata": {},
   "outputs": [
    {
     "data": {
      "text/html": [
       "<div>\n",
       "<style scoped>\n",
       "    .dataframe tbody tr th:only-of-type {\n",
       "        vertical-align: middle;\n",
       "    }\n",
       "\n",
       "    .dataframe tbody tr th {\n",
       "        vertical-align: top;\n",
       "    }\n",
       "\n",
       "    .dataframe thead th {\n",
       "        text-align: right;\n",
       "    }\n",
       "</style>\n",
       "<table border=\"1\" class=\"dataframe\">\n",
       "  <thead>\n",
       "    <tr style=\"text-align: right;\">\n",
       "      <th></th>\n",
       "      <th>0</th>\n",
       "    </tr>\n",
       "  </thead>\n",
       "  <tbody>\n",
       "    <tr>\n",
       "      <th>0</th>\n",
       "      <td>F:/CST17020/python/ImageProcessingProject/my e...</td>\n",
       "    </tr>\n",
       "    <tr>\n",
       "      <th>1</th>\n",
       "      <td>F:/CST17020/python/ImageProcessingProject/my e...</td>\n",
       "    </tr>\n",
       "    <tr>\n",
       "      <th>2</th>\n",
       "      <td>F:/CST17020/python/ImageProcessingProject/my e...</td>\n",
       "    </tr>\n",
       "    <tr>\n",
       "      <th>3</th>\n",
       "      <td>F:/CST17020/python/ImageProcessingProject/my e...</td>\n",
       "    </tr>\n",
       "    <tr>\n",
       "      <th>4</th>\n",
       "      <td>F:/CST17020/python/ImageProcessingProject/my e...</td>\n",
       "    </tr>\n",
       "    <tr>\n",
       "      <th>5</th>\n",
       "      <td>F:/CST17020/python/ImageProcessingProject/my e...</td>\n",
       "    </tr>\n",
       "    <tr>\n",
       "      <th>6</th>\n",
       "      <td>F:/CST17020/python/ImageProcessingProject/my e...</td>\n",
       "    </tr>\n",
       "  </tbody>\n",
       "</table>\n",
       "</div>"
      ],
      "text/plain": [
       "                                                   0\n",
       "0  F:/CST17020/python/ImageProcessingProject/my e...\n",
       "1  F:/CST17020/python/ImageProcessingProject/my e...\n",
       "2  F:/CST17020/python/ImageProcessingProject/my e...\n",
       "3  F:/CST17020/python/ImageProcessingProject/my e...\n",
       "4  F:/CST17020/python/ImageProcessingProject/my e...\n",
       "5  F:/CST17020/python/ImageProcessingProject/my e...\n",
       "6  F:/CST17020/python/ImageProcessingProject/my e..."
      ]
     },
     "execution_count": 4,
     "metadata": {},
     "output_type": "execute_result"
    }
   ],
   "source": [
    "df"
   ]
  },
  {
   "cell_type": "code",
   "execution_count": 5,
   "id": "a2ca713c",
   "metadata": {},
   "outputs": [],
   "source": [
    "df2 = pd.DataFrame(datas)"
   ]
  },
  {
   "cell_type": "code",
   "execution_count": 6,
   "id": "b5716efb",
   "metadata": {},
   "outputs": [
    {
     "data": {
      "text/html": [
       "<div>\n",
       "<style scoped>\n",
       "    .dataframe tbody tr th:only-of-type {\n",
       "        vertical-align: middle;\n",
       "    }\n",
       "\n",
       "    .dataframe tbody tr th {\n",
       "        vertical-align: top;\n",
       "    }\n",
       "\n",
       "    .dataframe thead th {\n",
       "        text-align: right;\n",
       "    }\n",
       "</style>\n",
       "<table border=\"1\" class=\"dataframe\">\n",
       "  <thead>\n",
       "    <tr style=\"text-align: right;\">\n",
       "      <th></th>\n",
       "      <th>0</th>\n",
       "      <th>1</th>\n",
       "      <th>2</th>\n",
       "      <th>3</th>\n",
       "      <th>4</th>\n",
       "    </tr>\n",
       "  </thead>\n",
       "  <tbody>\n",
       "    <tr>\n",
       "      <th>0</th>\n",
       "      <td>Mr.Fazni M.F.M\\n</td>\n",
       "      <td>UWU/CST/17/020\\n</td>\n",
       "      <td>Science &amp; Technology\\n</td>\n",
       "      <td>Computer Science &amp;\\n</td>\n",
       "      <td>Technology</td>\n",
       "    </tr>\n",
       "    <tr>\n",
       "      <th>1</th>\n",
       "      <td>Ms. Nabeela M.I\\n</td>\n",
       "      <td>UWU/CST/17/038 \\n</td>\n",
       "      <td>Science &amp; Technology \\n</td>\n",
       "      <td>Computer Science &amp; \\n</td>\n",
       "      <td>Technology</td>\n",
       "    </tr>\n",
       "    <tr>\n",
       "      <th>2</th>\n",
       "      <td>Mr. Shihan N.S\\n</td>\n",
       "      <td>UWU/SCT/17/O44\\n</td>\n",
       "      <td>Science &amp; Technology\\n</td>\n",
       "      <td>Science &amp; Technology</td>\n",
       "      <td>None</td>\n",
       "    </tr>\n",
       "    <tr>\n",
       "      <th>3</th>\n",
       "      <td>Mr. Musharrirf M.M.M.\\n</td>\n",
       "      <td>UWU/IIT/17/033\\n</td>\n",
       "      <td>Science &amp; Technology\\n</td>\n",
       "      <td>Industrial Information\\n</td>\n",
       "      <td>Technology</td>\n",
       "    </tr>\n",
       "    <tr>\n",
       "      <th>4</th>\n",
       "      <td>Ms. Yasora R.M.V.\\n</td>\n",
       "      <td>UWU/CST/17/068\\n</td>\n",
       "      <td>Science &amp; Technology\\n</td>\n",
       "      <td>Computer Science &amp;\\n</td>\n",
       "      <td>Technology</td>\n",
       "    </tr>\n",
       "    <tr>\n",
       "      <th>5</th>\n",
       "      <td>Ms. Kunapala N.\\n</td>\n",
       "      <td>UWU/CST/17/O35\\n</td>\n",
       "      <td>Science &amp; Technology\\n</td>\n",
       "      <td>Computer Science &amp;\\n</td>\n",
       "      <td>Technology</td>\n",
       "    </tr>\n",
       "    <tr>\n",
       "      <th>6</th>\n",
       "      <td>Mr. Dalpathadu K.P.K.G.\\n</td>\n",
       "      <td>UWU/CST/17/011\\n</td>\n",
       "      <td>Science &amp; Technology\\n</td>\n",
       "      <td>Computer Science &amp;.\\n</td>\n",
       "      <td>Technology</td>\n",
       "    </tr>\n",
       "  </tbody>\n",
       "</table>\n",
       "</div>"
      ],
      "text/plain": [
       "                           0                  1                        2  \\\n",
       "0           Mr.Fazni M.F.M\\n   UWU/CST/17/020\\n   Science & Technology\\n   \n",
       "1          Ms. Nabeela M.I\\n  UWU/CST/17/038 \\n  Science & Technology \\n   \n",
       "2           Mr. Shihan N.S\\n   UWU/SCT/17/O44\\n   Science & Technology\\n   \n",
       "3    Mr. Musharrirf M.M.M.\\n   UWU/IIT/17/033\\n   Science & Technology\\n   \n",
       "4        Ms. Yasora R.M.V.\\n   UWU/CST/17/068\\n   Science & Technology\\n   \n",
       "5          Ms. Kunapala N.\\n   UWU/CST/17/O35\\n   Science & Technology\\n   \n",
       "6  Mr. Dalpathadu K.P.K.G.\\n   UWU/CST/17/011\\n   Science & Technology\\n   \n",
       "\n",
       "                          3           4  \n",
       "0      Computer Science &\\n  Technology  \n",
       "1     Computer Science & \\n  Technology  \n",
       "2      Science & Technology        None  \n",
       "3  Industrial Information\\n  Technology  \n",
       "4      Computer Science &\\n  Technology  \n",
       "5      Computer Science &\\n  Technology  \n",
       "6     Computer Science &.\\n  Technology  "
      ]
     },
     "execution_count": 6,
     "metadata": {},
     "output_type": "execute_result"
    }
   ],
   "source": [
    "df2"
   ]
  },
  {
   "cell_type": "code",
   "execution_count": 7,
   "id": "0f5a359c",
   "metadata": {},
   "outputs": [],
   "source": [
    "df_all_rows = pd.concat([df, df2],axis=1)"
   ]
  },
  {
   "cell_type": "code",
   "execution_count": 8,
   "id": "3751b9a4",
   "metadata": {},
   "outputs": [
    {
     "data": {
      "text/html": [
       "<div>\n",
       "<style scoped>\n",
       "    .dataframe tbody tr th:only-of-type {\n",
       "        vertical-align: middle;\n",
       "    }\n",
       "\n",
       "    .dataframe tbody tr th {\n",
       "        vertical-align: top;\n",
       "    }\n",
       "\n",
       "    .dataframe thead th {\n",
       "        text-align: right;\n",
       "    }\n",
       "</style>\n",
       "<table border=\"1\" class=\"dataframe\">\n",
       "  <thead>\n",
       "    <tr style=\"text-align: right;\">\n",
       "      <th></th>\n",
       "      <th>0</th>\n",
       "      <th>0</th>\n",
       "      <th>1</th>\n",
       "      <th>2</th>\n",
       "      <th>3</th>\n",
       "      <th>4</th>\n",
       "    </tr>\n",
       "  </thead>\n",
       "  <tbody>\n",
       "    <tr>\n",
       "      <th>0</th>\n",
       "      <td>F:/CST17020/python/ImageProcessingProject/my e...</td>\n",
       "      <td>Mr.Fazni M.F.M\\n</td>\n",
       "      <td>UWU/CST/17/020\\n</td>\n",
       "      <td>Science &amp; Technology\\n</td>\n",
       "      <td>Computer Science &amp;\\n</td>\n",
       "      <td>Technology</td>\n",
       "    </tr>\n",
       "    <tr>\n",
       "      <th>1</th>\n",
       "      <td>F:/CST17020/python/ImageProcessingProject/my e...</td>\n",
       "      <td>Ms. Nabeela M.I\\n</td>\n",
       "      <td>UWU/CST/17/038 \\n</td>\n",
       "      <td>Science &amp; Technology \\n</td>\n",
       "      <td>Computer Science &amp; \\n</td>\n",
       "      <td>Technology</td>\n",
       "    </tr>\n",
       "    <tr>\n",
       "      <th>2</th>\n",
       "      <td>F:/CST17020/python/ImageProcessingProject/my e...</td>\n",
       "      <td>Mr. Shihan N.S\\n</td>\n",
       "      <td>UWU/SCT/17/O44\\n</td>\n",
       "      <td>Science &amp; Technology\\n</td>\n",
       "      <td>Science &amp; Technology</td>\n",
       "      <td>None</td>\n",
       "    </tr>\n",
       "    <tr>\n",
       "      <th>3</th>\n",
       "      <td>F:/CST17020/python/ImageProcessingProject/my e...</td>\n",
       "      <td>Mr. Musharrirf M.M.M.\\n</td>\n",
       "      <td>UWU/IIT/17/033\\n</td>\n",
       "      <td>Science &amp; Technology\\n</td>\n",
       "      <td>Industrial Information\\n</td>\n",
       "      <td>Technology</td>\n",
       "    </tr>\n",
       "    <tr>\n",
       "      <th>4</th>\n",
       "      <td>F:/CST17020/python/ImageProcessingProject/my e...</td>\n",
       "      <td>Ms. Yasora R.M.V.\\n</td>\n",
       "      <td>UWU/CST/17/068\\n</td>\n",
       "      <td>Science &amp; Technology\\n</td>\n",
       "      <td>Computer Science &amp;\\n</td>\n",
       "      <td>Technology</td>\n",
       "    </tr>\n",
       "    <tr>\n",
       "      <th>5</th>\n",
       "      <td>F:/CST17020/python/ImageProcessingProject/my e...</td>\n",
       "      <td>Ms. Kunapala N.\\n</td>\n",
       "      <td>UWU/CST/17/O35\\n</td>\n",
       "      <td>Science &amp; Technology\\n</td>\n",
       "      <td>Computer Science &amp;\\n</td>\n",
       "      <td>Technology</td>\n",
       "    </tr>\n",
       "    <tr>\n",
       "      <th>6</th>\n",
       "      <td>F:/CST17020/python/ImageProcessingProject/my e...</td>\n",
       "      <td>Mr. Dalpathadu K.P.K.G.\\n</td>\n",
       "      <td>UWU/CST/17/011\\n</td>\n",
       "      <td>Science &amp; Technology\\n</td>\n",
       "      <td>Computer Science &amp;.\\n</td>\n",
       "      <td>Technology</td>\n",
       "    </tr>\n",
       "  </tbody>\n",
       "</table>\n",
       "</div>"
      ],
      "text/plain": [
       "                                                   0  \\\n",
       "0  F:/CST17020/python/ImageProcessingProject/my e...   \n",
       "1  F:/CST17020/python/ImageProcessingProject/my e...   \n",
       "2  F:/CST17020/python/ImageProcessingProject/my e...   \n",
       "3  F:/CST17020/python/ImageProcessingProject/my e...   \n",
       "4  F:/CST17020/python/ImageProcessingProject/my e...   \n",
       "5  F:/CST17020/python/ImageProcessingProject/my e...   \n",
       "6  F:/CST17020/python/ImageProcessingProject/my e...   \n",
       "\n",
       "                           0                  1                        2  \\\n",
       "0           Mr.Fazni M.F.M\\n   UWU/CST/17/020\\n   Science & Technology\\n   \n",
       "1          Ms. Nabeela M.I\\n  UWU/CST/17/038 \\n  Science & Technology \\n   \n",
       "2           Mr. Shihan N.S\\n   UWU/SCT/17/O44\\n   Science & Technology\\n   \n",
       "3    Mr. Musharrirf M.M.M.\\n   UWU/IIT/17/033\\n   Science & Technology\\n   \n",
       "4        Ms. Yasora R.M.V.\\n   UWU/CST/17/068\\n   Science & Technology\\n   \n",
       "5          Ms. Kunapala N.\\n   UWU/CST/17/O35\\n   Science & Technology\\n   \n",
       "6  Mr. Dalpathadu K.P.K.G.\\n   UWU/CST/17/011\\n   Science & Technology\\n   \n",
       "\n",
       "                          3           4  \n",
       "0      Computer Science &\\n  Technology  \n",
       "1     Computer Science & \\n  Technology  \n",
       "2      Science & Technology        None  \n",
       "3  Industrial Information\\n  Technology  \n",
       "4      Computer Science &\\n  Technology  \n",
       "5      Computer Science &\\n  Technology  \n",
       "6     Computer Science &.\\n  Technology  "
      ]
     },
     "execution_count": 8,
     "metadata": {},
     "output_type": "execute_result"
    }
   ],
   "source": [
    "df_all_rows"
   ]
  },
  {
   "cell_type": "code",
   "execution_count": 10,
   "id": "021b9772",
   "metadata": {},
   "outputs": [],
   "source": [
    "arr = df_all_rows.to_numpy()"
   ]
  },
  {
   "cell_type": "code",
   "execution_count": 11,
   "id": "e1397178",
   "metadata": {},
   "outputs": [
    {
     "data": {
      "text/plain": [
       "array([['F:/CST17020/python/ImageProcessingProject/my extra works/id\\\\1.jpg',\n",
       "        'Mr.Fazni M.F.M\\n', 'UWU/CST/17/020\\n', 'Science & Technology\\n',\n",
       "        'Computer Science &\\n', 'Technology'],\n",
       "       ['F:/CST17020/python/ImageProcessingProject/my extra works/id\\\\2.jpg',\n",
       "        'Ms. Nabeela M.I\\n', 'UWU/CST/17/038 \\n',\n",
       "        'Science & Technology \\n', 'Computer Science & \\n', 'Technology'],\n",
       "       ['F:/CST17020/python/ImageProcessingProject/my extra works/id\\\\3.jpg',\n",
       "        'Mr. Shihan N.S\\n', 'UWU/SCT/17/O44\\n', 'Science & Technology\\n',\n",
       "        'Science & Technology', None],\n",
       "       ['F:/CST17020/python/ImageProcessingProject/my extra works/id\\\\4.jpg',\n",
       "        'Mr. Musharrirf M.M.M.\\n', 'UWU/IIT/17/033\\n',\n",
       "        'Science & Technology\\n', 'Industrial Information\\n',\n",
       "        'Technology'],\n",
       "       ['F:/CST17020/python/ImageProcessingProject/my extra works/id\\\\5.jpg',\n",
       "        'Ms. Yasora R.M.V.\\n', 'UWU/CST/17/068\\n',\n",
       "        'Science & Technology\\n', 'Computer Science &\\n', 'Technology'],\n",
       "       ['F:/CST17020/python/ImageProcessingProject/my extra works/id\\\\6.jpg',\n",
       "        'Ms. Kunapala N.\\n', 'UWU/CST/17/O35\\n',\n",
       "        'Science & Technology\\n', 'Computer Science &\\n', 'Technology'],\n",
       "       ['F:/CST17020/python/ImageProcessingProject/my extra works/id\\\\7.jpg',\n",
       "        'Mr. Dalpathadu K.P.K.G.\\n', 'UWU/CST/17/011\\n',\n",
       "        'Science & Technology\\n', 'Computer Science &.\\n', 'Technology']],\n",
       "      dtype=object)"
      ]
     },
     "execution_count": 11,
     "metadata": {},
     "output_type": "execute_result"
    }
   ],
   "source": [
    "arr"
   ]
  },
  {
   "cell_type": "code",
   "execution_count": 12,
   "id": "77e04a5c",
   "metadata": {},
   "outputs": [],
   "source": [
    "data=arr[:,0]"
   ]
  },
  {
   "cell_type": "code",
   "execution_count": 13,
   "id": "cce6a447",
   "metadata": {},
   "outputs": [
    {
     "data": {
      "text/plain": [
       "array(['F:/CST17020/python/ImageProcessingProject/my extra works/id\\\\1.jpg',\n",
       "       'F:/CST17020/python/ImageProcessingProject/my extra works/id\\\\2.jpg',\n",
       "       'F:/CST17020/python/ImageProcessingProject/my extra works/id\\\\3.jpg',\n",
       "       'F:/CST17020/python/ImageProcessingProject/my extra works/id\\\\4.jpg',\n",
       "       'F:/CST17020/python/ImageProcessingProject/my extra works/id\\\\5.jpg',\n",
       "       'F:/CST17020/python/ImageProcessingProject/my extra works/id\\\\6.jpg',\n",
       "       'F:/CST17020/python/ImageProcessingProject/my extra works/id\\\\7.jpg'],\n",
       "      dtype=object)"
      ]
     },
     "execution_count": 13,
     "metadata": {},
     "output_type": "execute_result"
    }
   ],
   "source": [
    "data"
   ]
  },
  {
   "cell_type": "code",
   "execution_count": 14,
   "id": "dd5d514b",
   "metadata": {},
   "outputs": [],
   "source": [
    "target=arr[:,1:]"
   ]
  },
  {
   "cell_type": "code",
   "execution_count": 16,
   "id": "dff4e268",
   "metadata": {},
   "outputs": [
    {
     "data": {
      "text/plain": [
       "array([['Mr.Fazni M.F.M\\n', 'UWU/CST/17/020\\n', 'Science & Technology\\n',\n",
       "        'Computer Science &\\n', 'Technology'],\n",
       "       ['Ms. Nabeela M.I\\n', 'UWU/CST/17/038 \\n',\n",
       "        'Science & Technology \\n', 'Computer Science & \\n', 'Technology'],\n",
       "       ['Mr. Shihan N.S\\n', 'UWU/SCT/17/O44\\n', 'Science & Technology\\n',\n",
       "        'Science & Technology', None],\n",
       "       ['Mr. Musharrirf M.M.M.\\n', 'UWU/IIT/17/033\\n',\n",
       "        'Science & Technology\\n', 'Industrial Information\\n',\n",
       "        'Technology'],\n",
       "       ['Ms. Yasora R.M.V.\\n', 'UWU/CST/17/068\\n',\n",
       "        'Science & Technology\\n', 'Computer Science &\\n', 'Technology'],\n",
       "       ['Ms. Kunapala N.\\n', 'UWU/CST/17/O35\\n',\n",
       "        'Science & Technology\\n', 'Computer Science &\\n', 'Technology'],\n",
       "       ['Mr. Dalpathadu K.P.K.G.\\n', 'UWU/CST/17/011\\n',\n",
       "        'Science & Technology\\n', 'Computer Science &.\\n', 'Technology']],\n",
       "      dtype=object)"
      ]
     },
     "execution_count": 16,
     "metadata": {},
     "output_type": "execute_result"
    }
   ],
   "source": [
    "target"
   ]
  },
  {
   "cell_type": "code",
   "execution_count": 17,
   "id": "ed24cb3a",
   "metadata": {},
   "outputs": [],
   "source": [
    "from sklearn.model_selection import train_test_split\n",
    "\n",
    "train_data,test_data,train_target,test_target=train_test_split(data,target,test_size=0.2)"
   ]
  },
  {
   "cell_type": "code",
   "execution_count": 18,
   "id": "5f5bf27b",
   "metadata": {},
   "outputs": [
    {
     "name": "stdout",
     "output_type": "stream",
     "text": [
      "(5,)\n",
      "(2,)\n",
      "(5, 5)\n",
      "(2, 5)\n"
     ]
    }
   ],
   "source": [
    "print(train_data.shape)\n",
    "print(test_data.shape)\n",
    "print(train_target.shape)\n",
    "print(test_target.shape)"
   ]
  },
  {
   "cell_type": "code",
   "execution_count": 21,
   "id": "b8ed631a",
   "metadata": {},
   "outputs": [],
   "source": [
    "# from sklearn.naive_bayes import naive_bayes \n",
    "\n",
    "# model=naive_bayes()\n",
    "\n",
    "# model.fit(train_data,train_target)\n",
    "# predicted_target=model.predict(test_data)"
   ]
  },
  {
   "cell_type": "code",
   "execution_count": null,
   "id": "fbccadad",
   "metadata": {},
   "outputs": [],
   "source": []
  }
 ],
 "metadata": {
  "kernelspec": {
   "display_name": "Python 3",
   "language": "python",
   "name": "python3"
  },
  "language_info": {
   "codemirror_mode": {
    "name": "ipython",
    "version": 3
   },
   "file_extension": ".py",
   "mimetype": "text/x-python",
   "name": "python",
   "nbconvert_exporter": "python",
   "pygments_lexer": "ipython3",
   "version": "3.8.8"
  }
 },
 "nbformat": 4,
 "nbformat_minor": 5
}
