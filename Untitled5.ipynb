{
 "cells": [
  {
   "cell_type": "code",
   "execution_count": null,
   "id": "e84231ce",
   "metadata": {},
   "outputs": [],
   "source": [
    "# import cv2\n",
    "# import numpy as np\n",
    "# import pytesseract\n",
    "\n",
    "# pytesseract.pytesseract.tesseract_cmd = 'F:\\\\Program Files\\\\Tesseract-OCR\\\\tesseract.exe'\n",
    "\n",
    "# # Load image, create mask, grayscale, Otsu's threshold\n",
    "# image = cv2.imread('F:/CST17020/python/myProject/id/4.jpg')\n",
    "# mask = np.zeros(image.shape, dtype=np.uint8)\n",
    "# gray = cv2.cvtColor(image, cv2.COLOR_BGR2GRAY)\n",
    "# bfilter = cv2.bilateralFilter(gray, 11, 17, 17) #Noise reduction\n",
    "# edged = cv2.Canny(bfilter, 30, 200) #Edge detection\n",
    "# thresh = cv2.threshold(bfilter, 0, 255, cv2.THRESH_BINARY + cv2.THRESH_OTSU)[1]\n",
    "\n",
    "# # Filter for ROI using contour area and aspect ratio\n",
    "# cnts = cv2.findContours(thresh, cv2.RETR_TREE, cv2.CHAIN_APPROX_SIMPLE)\n",
    "# cnts = cnts[0] if len(cnts) == 2 else cnts[1]\n",
    "# for c in cnts:\n",
    "#     area = cv2.contourArea(c)\n",
    "#     peri = cv2.arcLength(c, True)\n",
    "#     approx = cv2.approxPolyDP(c, 0.05 * peri, True)\n",
    "#     x,y,w,h = cv2.boundingRect(approx)\n",
    "#     aspect_ratio = w / float(h)\n",
    "#     if area > 2000 and aspect_ratio > .5:\n",
    "#         mask[y:y+h, x:x+w] = image[y:y+h, x:x+w]\n",
    "\n",
    "# # Perfrom OCR with Pytesseract\n",
    "# data = pytesseract.image_to_string(mask, lang='eng', config='--psm 6')\n",
    "# print(data)\n",
    "\n",
    "# cv2.imshow('thresh', thresh)\n",
    "# cv2.imshow('mask', mask)\n",
    "# cv2.waitKey()"
   ]
  }
 ],
 "metadata": {
  "kernelspec": {
   "display_name": "Python 3",
   "language": "python",
   "name": "python3"
  },
  "language_info": {
   "codemirror_mode": {
    "name": "ipython",
    "version": 3
   },
   "file_extension": ".py",
   "mimetype": "text/x-python",
   "name": "python",
   "nbconvert_exporter": "python",
   "pygments_lexer": "ipython3",
   "version": "3.8.8"
  }
 },
 "nbformat": 4,
 "nbformat_minor": 5
}
